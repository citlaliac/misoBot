{
 "cells": [
  {
   "cell_type": "code",
   "execution_count": 2,
   "metadata": {},
   "outputs": [
    {
     "name": "stdout",
     "output_type": "stream",
     "text": [
      "{'iphone': 2007, 'iphone 3G': 2008, 'iphone 3GS': 2009, 'iphone 4': 2010, 'iphone 4S': 2011, 'iphone 5': 2012}\n"
     ]
    }
   ],
   "source": [
    "misoDict = {\n",
    "\t\t\"iphone\" : 2007,\n",
    "\t\t\"iphone 3G\" : 2008,\n",
    "\t\t\"iphone 3GS\" : 2009,\n",
    "\t\t\"iphone 4\" : 2010,\n",
    "\t\t\"iphone 4S\" : 2011,\n",
    "\t\t\"iphone 5\" : 2012\n",
    "\t}\n",
    "print (misoDict)"
   ]
  },
  {
   "cell_type": "code",
   "execution_count": null,
   "metadata": {},
   "outputs": [],
   "source": []
  }
 ],
 "metadata": {
  "kernelspec": {
   "display_name": "Python 3",
   "language": "python",
   "name": "python3"
  },
  "language_info": {
   "codemirror_mode": {
    "name": "ipython",
    "version": 3
   },
   "file_extension": ".py",
   "mimetype": "text/x-python",
   "name": "python",
   "nbconvert_exporter": "python",
   "pygments_lexer": "ipython3",
   "version": "3.7.0"
  }
 },
 "nbformat": 4,
 "nbformat_minor": 2
}
