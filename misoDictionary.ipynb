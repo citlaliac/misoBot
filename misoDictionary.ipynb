{
 "cells": [
  {
   "cell_type": "code",
   "execution_count": 6,
   "metadata": {},
   "outputs": [
    {
     "name": "stdout",
     "output_type": "stream",
     "text": [
      "{'she': 'he', 'her': 'him', 'hers': 'his', 'herself': 'himself', 'babygirl': 'babyboy', 'girl': 'boy', 'girls': 'boys', 'lady': 'guy', 'ladies': 'guys', 'gal': 'lad', 'gals': 'lads', 'female': 'dilmalef', 'females': 'males', 'chic': 'dude', 'chics': 'dudes', 'chick': 'dude', 'chicks': 'dudes', 'woman': 'man', 'women': 'men', 'sister': 'brother', 'sisters': 'brothers', 'mom': 'dad', 'daughter': 'son', 'daughters': 'sons', 'bitch': 'prick', 'bitches': 'pricks', 'hoe': 'manhoe', 'hoes': 'manhoes', 'slut': 'slut', 'sluts': 'sluts', 'skank': 'skank', 'skanks': 'skanks', 'whore': 'whore', 'whores': 'whores', 'milf': 'dilf', 'milfs': 'dilfs', 'pussy': 'weeny', 'pussies': 'dicks', 'vagina': 'penis', 'boobs': 'chest', 'titties': 'pecks'}\n"
     ]
    }
   ],
   "source": [
    "misoDict = {\n",
    "    #pronouns\n",
    "\t\t\"she\" : \"he\",\n",
    "        \"she's\" : \"he's\"\n",
    "\t\t\"her\" : \"him\",\n",
    "\t\t\"hers\" : \"his\",\n",
    "\t\t\"herself\" : \"himself\",\n",
    "    #babys\n",
    "\t\t\"babygirl\" : \"babyboy\",\n",
    "    #female to male\n",
    "\t\t\"girl\" : \"boy\",\n",
    "\t\t\"girls\" : \"boys\",\n",
    "        \"lady\" : \"guy\",\n",
    "        \"ladies\" : \"guys\",\n",
    "        \"gal\" : \"lad\",\n",
    "        \"gals\" : \"lads\",\n",
    "        \"female\" : \"dilmalef\",\n",
    "        \"females\" : \"males\",\n",
    "        \"chic\" : \"dude\",\n",
    "        \"chics\" : \"dudes\",\n",
    "        \"chick\" : \"dude\",\n",
    "        \"chicks\" : \"dudes\",\n",
    "        \"woman\" : \"man\",\n",
    "        \"women\" :  \"men\",\n",
    "        \"sister\" : \"brother\",\n",
    "        \"sisters\" : \"brothers\",\n",
    "        \"mom\" : \"dad\",\n",
    "        \"daughter\" : \"son\",\n",
    "        \"daughters\" : \"sons\",\n",
    "        #\"my girl\" : \"my bro\"\n",
    "        #\"my girls\" : \"my bros\",\n",
    "    #derogatory female to derogatory male\n",
    "        \"bitch\" : \"douches\",\n",
    "        \"bitches\" : \"douches\",\n",
    "        \"ho\" : \"manhoe\"\n",
    "        \"hoe\" : \"manhoe\",\n",
    "        \"hoes\" : \"manhoes\",\n",
    "        \"ho's\" : \"manhoes\"\n",
    "        \"slut\" : \"slut\",\n",
    "        \"sluts\" : \"sluts\",\n",
    "        \"skank\" : \"skank\",\n",
    "        \"skanks\" : \"skanks\",\n",
    "        \"whore\" : \"whore\",\n",
    "        \"whores\" : \"whores\",\n",
    "        \"milf\" : \"dilf\",\n",
    "        \"milfs\" : \"dilfs\",\n",
    "        \"pussy\" : \"dick\",\n",
    "        \"pussies\" : \"dicks\",\n",
    "    #body parts\n",
    "        \"pussy\" : \"weeny\",\n",
    "        \"vagina\" : \"penis\",\n",
    "        \"boobs\" : \"chest\",\n",
    "        \"titties\" : \"pecks\"\n",
    "\n",
    "\t}\n",
    "print (misoDict)"
   ]
  },
  {
   "cell_type": "code",
   "execution_count": null,
   "metadata": {},
   "outputs": [],
   "source": []
  },
  {
   "cell_type": "code",
   "execution_count": null,
   "metadata": {},
   "outputs": [],
   "source": []
  }
 ],
 "metadata": {
  "kernelspec": {
   "display_name": "Python 3",
   "language": "python",
   "name": "python3"
  },
  "language_info": {
   "codemirror_mode": {
    "name": "ipython",
    "version": 3
   },
   "file_extension": ".py",
   "mimetype": "text/x-python",
   "name": "python",
   "nbconvert_exporter": "python",
   "pygments_lexer": "ipython3",
   "version": "3.7.0"
  }
 },
 "nbformat": 4,
 "nbformat_minor": 2
}
